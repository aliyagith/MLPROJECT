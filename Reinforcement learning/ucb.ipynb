{
 "cells": [
  {
   "cell_type": "markdown",
   "id": "1e803e18",
   "metadata": {},
   "source": [
    "BENEFITS\n",
    "-  Try each machine once in the Beginning\n",
    "- After that, pick the machine that as the best Average score\n",
    "- If two machines seem close, give more chances to thr one that hasn,t been tested  much     \n",
    "problem- If one machine lucky in the first few rounds, UCB might keep picking, even if another machine is actually better\n"
   ]
  },
  {
   "cell_type": "code",
   "execution_count": 25,
   "id": "a643b3f9",
   "metadata": {},
   "outputs": [],
   "source": [
    "import math\n",
    "import random"
   ]
  },
  {
   "cell_type": "code",
   "execution_count": 26,
   "id": "62c81565",
   "metadata": {},
   "outputs": [],
   "source": [
    "n_machine = 3\n",
    "n_trials = 10"
   ]
  },
  {
   "cell_type": "markdown",
   "id": "94e92051",
   "metadata": {},
   "source": [
    "- count[i] stores how many times machine i has been played\n",
    "- rewards[i] stores how many total rewards were received from machine if\n",
    "- initially, all values are 0 because we have not played yet"
   ]
  },
  {
   "cell_type": "code",
   "execution_count": 27,
   "id": "bb59e443",
   "metadata": {},
   "outputs": [],
   "source": [
    "count= [0]* n_machine\n",
    "rewards=[0] *n_machine"
   ]
  },
  {
   "cell_type": "code",
   "execution_count": 28,
   "id": "2723795c",
   "metadata": {},
   "outputs": [],
   "source": [
    "true_rewards = [0.2, 0.5, 0.8]"
   ]
  },
  {
   "cell_type": "code",
   "execution_count": 29,
   "id": "03d38d10",
   "metadata": {},
   "outputs": [],
   "source": [
    "#this loop rums 10 times(since n_trials=10)\n",
    "#each time, agent chooses a slot machine to play\n",
    "for t in range(1,n_trials+1):\n",
    "    #if any machine has not been played yet (0 in count), we choose it first\n",
    "    #this ensures each machine is played at least once before applying UCB formula, this is called exploration\n",
    "    if 0 in count:\n",
    "        arm = count.index(0)\n",
    "    else:\n",
    "        #calculate UCB values for each machine\n",
    "        #average reward + Exploration bonus\n",
    "        ucb_values= [\n",
    "            rewards[i]/count[i]+math.sqrt(2*math.log(t)/count[i])\n",
    "            for i in range(n_machine)\n",
    "            ]\n",
    "        arm=ucb_values.index(max(ucb_values)) #pick the machine with the highest UCB value\n",
    "\n",
    "    reward = 1 if random.random() < true_rewards[arm] else 0\n",
    "    count[arm] += 1\n",
    "    rewards[arm] += reward"
   ]
  },
  {
   "cell_type": "code",
   "execution_count": 30,
   "id": "371d0007",
   "metadata": {},
   "outputs": [
    {
     "name": "stdout",
     "output_type": "stream",
     "text": [
      "Machine 1: Played 2 times, Estimated win rate: 0.000000\n",
      "Machine 2: Played 2 times, Estimated win rate: 0.000000\n",
      "Machine 3: Played 6 times, Estimated win rate: 0.833333\n",
      "Best Machine: 3\n"
     ]
    }
   ],
   "source": [
    "#show the result\n",
    "for i in range(n_machine):\n",
    "    print(f\"Machine {i+1}: Played {count[i]} times, Estimated win rate: {rewards[i]/count[i]:2f}\")\n",
    "\n",
    "print(\"Best Machine:\", rewards.index(max(rewards)) + 1)"
   ]
  }
 ],
 "metadata": {
  "kernelspec": {
   "display_name": "Python 3",
   "language": "python",
   "name": "python3"
  },
  "language_info": {
   "codemirror_mode": {
    "name": "ipython",
    "version": 3
   },
   "file_extension": ".py",
   "mimetype": "text/x-python",
   "name": "python",
   "nbconvert_exporter": "python",
   "pygments_lexer": "ipython3",
   "version": "3.13.5"
  }
 },
 "nbformat": 4,
 "nbformat_minor": 5
}
