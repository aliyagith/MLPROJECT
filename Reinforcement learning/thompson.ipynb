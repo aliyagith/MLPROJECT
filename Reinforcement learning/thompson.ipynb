{
 "cells": [
  {
   "cell_type": "markdown",
   "id": "a82caddd",
   "metadata": {},
   "source": [
    "BENEFITS\n",
    "- Each mahine starts with a random chance of being the best\n",
    "- Every time you play, you update what you know about each machine\n",
    "- Instead of just picking the machine with the Highest average, you randomly choose based on how confident you are that a machine is best\n",
    "\n",
    "why is this better: Even if a machine was luvky early, Thompson smpling still test other machine in the smart way. it doesn't get stuck on the bad choice"
   ]
  },
  {
   "cell_type": "code",
   "execution_count": 7,
   "id": "660fca94",
   "metadata": {},
   "outputs": [],
   "source": [
    "import random"
   ]
  },
  {
   "cell_type": "code",
   "execution_count": 8,
   "id": "2c2698de",
   "metadata": {},
   "outputs": [],
   "source": [
    "n_machine = 3\n",
    "n_trials = 10"
   ]
  },
  {
   "cell_type": "code",
   "execution_count": 9,
   "id": "7a122571",
   "metadata": {},
   "outputs": [],
   "source": [
    "true_rewards = [0.2, 0.5, 0.8]"
   ]
  },
  {
   "cell_type": "code",
   "execution_count": 10,
   "id": "c7c9ae26",
   "metadata": {},
   "outputs": [],
   "source": [
    "success = [0] * n_machine\n",
    "failure = [0] * n_machine"
   ]
  },
  {
   "cell_type": "code",
   "execution_count": 11,
   "id": "4353a741",
   "metadata": {},
   "outputs": [],
   "source": [
    "for i in range(n_trials):\n",
    "    #Sample from the beta distribution for each machine\n",
    "    sampled_values = [random.betavariate(success[j]+1, failure[j]+1) for j in range(n_machine)]\n",
    "    arm = sampled_values.index(max(sampled_values)) #choose the best guess\n",
    "    reward = 1 if random.random() < true_rewards[arm] else 0\n",
    "    if reward == 1:\n",
    "        success[arm] += 1\n",
    "    else:\n",
    "        failure[arm] += 1"
   ]
  },
  {
   "cell_type": "code",
   "execution_count": 12,
   "id": "ecc4ba1f",
   "metadata": {},
   "outputs": [
    {
     "name": "stdout",
     "output_type": "stream",
     "text": [
      "Machine 1: Played 2 times, Estimated win rate: 0.00\n",
      "Machine 2: Played 2 times, Estimated win rate: 0.00\n",
      "Machine 3: Played 6 times, Estimated win rate: 1.00\n",
      "Best Machine to play: 3\n"
     ]
    }
   ],
   "source": [
    "#show the results\n",
    "for i in range(n_machine):\n",
    "    total = success[i]+failure[i]\n",
    "    print(f\"Machine {i+1}: Played {total} times, Estimated win rate: {success[i]/total if total > 0 else 0:.2f}\")\n",
    "\n",
    "print(\"Best Machine to play:\", success.index(max(success)) + 1)"
   ]
  }
 ],
 "metadata": {
  "kernelspec": {
   "display_name": "Python 3",
   "language": "python",
   "name": "python3"
  },
  "language_info": {
   "codemirror_mode": {
    "name": "ipython",
    "version": 3
   },
   "file_extension": ".py",
   "mimetype": "text/x-python",
   "name": "python",
   "nbconvert_exporter": "python",
   "pygments_lexer": "ipython3",
   "version": "3.13.5"
  }
 },
 "nbformat": 4,
 "nbformat_minor": 5
}
